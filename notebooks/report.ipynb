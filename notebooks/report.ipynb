{
 "cells": [
  {
   "cell_type": "code",
   "execution_count": null,
   "metadata": {},
   "outputs": [],
   "source": [
    "import pickle\n",
    "from pathlib import Path\n",
    "\n",
    "import cv2\n",
    "import isort\n",
    "import matplotlib.pyplot as plt\n",
    "import numpy as np\n",
    "import torch\n",
    "from pytorch3d.renderer import (AlphaCompositor, FoVOrthographicCameras,\n",
    "                                NormWeightedCompositor,\n",
    "                                PointsRasterizationSettings, PointsRasterizer,\n",
    "                                PointsRenderer, PulsarPointsRenderer,\n",
    "                                look_at_view_transform, FoVPerspectiveCameras)\n",
    "from pytorch3d.structures import Pointclouds\n",
    "from scipy.spatial.transform import Rotation\n",
    "from tqdm import tqdm\n",
    "\n",
    "from _point_cloud import *\n",
    "from _fractal import generate_point\n",
    "from _point_wolf import PointWOLF\n",
    "\n",
    "# print(isort.code(_ih[2]))\n",
    "\n",
    "%matplotlib inline"
   ]
  },
  {
   "cell_type": "code",
   "execution_count": null,
   "metadata": {},
   "outputs": [],
   "source": [
    "# Args\n",
    "device = torch.device(\"cuda\" if torch.cuda.is_available() else \"cpu\")\n",
    "image_size: int = 224\n",
    "random_seed: int = 42\n",
    "point_num: int = 10000\n",
    "param_path = Path(\"../data/point_cloud_C1000_P10000_params.pkl\")\n",
    "\n",
    "with open(param_path, \"rb\") as f:\n",
    "    ifs_params = pickle.load(f)\n",
    "\n",
    "print(\"Rendering device is\", device)\n",
    "print(\"Class num is\", len(ifs_params))\n",
    "print(\"IFS parameter is\", ifs_params[0])\n",
    "\n",
    "# Generate point cloud\n",
    "point_clouds = {}\n",
    "for idx in tqdm(range(len(ifs_params))):\n",
    "    point_data = generate_point(ifs_params[idx], point_num)\n",
    "    point_clouds[idx] = point_data.transpose()"
   ]
  },
  {
   "cell_type": "markdown",
   "metadata": {},
   "source": [
    "## Point Cloud Augmentation"
   ]
  },
  {
   "cell_type": "code",
   "execution_count": null,
   "metadata": {},
   "outputs": [],
   "source": [
    "def plot_points_3d(points_3d:np.ndarray, title:str):\n",
    "    print(\"Point Cloud shape is\", points_3d.shape)\n",
    "    print(\"X: \", np.max(points_3d[:, 0]), np.min(points_3d[:, 0]))\n",
    "    print(\"Y: \", np.max(points_3d[:, 1]), np.min(points_3d[:, 1]))\n",
    "    print(\"Z: \", np.max(points_3d[:, 2]), np.min(points_3d[:, 2]))\n",
    "    print(np.mean(points_3d, axis=0))\n",
    "\n",
    "    fig = plt.figure(figsize=(8, 6))\n",
    "    ax = fig.add_subplot(projection='3d')\n",
    "    ax.scatter(points_3d[:, 0], points_3d[:, 1], points_3d[:, 2], s=1)\n",
    "    ax.set_xlabel('X')\n",
    "    ax.set_ylabel('Y')\n",
    "    ax.set_zlabel('Z', labelpad=0)\n",
    "    ax.set_xlim(-1, 1)\n",
    "    ax.set_ylim(-1, 1)\n",
    "    ax.set_zlim(-1, 1)\n",
    "    ax.tick_params(labelsize = 10)\n",
    "    ax.tick_params()\n",
    "    plt.title(title)"
   ]
  },
  {
   "cell_type": "code",
   "execution_count": null,
   "metadata": {},
   "outputs": [],
   "source": [
    "points_3d = point_clouds[0]\n",
    "plot_points_3d(points_3d, \"Original\")"
   ]
  },
  {
   "cell_type": "code",
   "execution_count": null,
   "metadata": {},
   "outputs": [],
   "source": [
    "points_3d = point_clouds[0]\n",
    "augmented_point_3d = random_shift_scale_point_cloud(points_3d, prob=1.0)\n",
    "plot_points_3d(augmented_point_3d, \"Shift&Scale\")"
   ]
  },
  {
   "cell_type": "code",
   "execution_count": null,
   "metadata": {},
   "outputs": [],
   "source": [
    "points_3d = point_clouds[0]\n",
    "augmented_point_3d = random_rotate_point_cloud(points_3d, prob=1.0)\n",
    "plot_points_3d(augmented_point_3d, \"Rotate\")"
   ]
  },
  {
   "cell_type": "code",
   "execution_count": null,
   "metadata": {},
   "outputs": [],
   "source": [
    "points_3d = point_clouds[0]\n",
    "augmented_point_3d = random_gaussian_noise_point_cloud(points_3d, prob=1.0)\n",
    "plot_points_3d(augmented_point_3d, \"Gaussian Noise\")"
   ]
  },
  {
   "cell_type": "code",
   "execution_count": null,
   "metadata": {},
   "outputs": [],
   "source": [
    "augmented_point_3d = generate_point(ifs_params[0], 5 * point_num).transpose()\n",
    "plot_points_3d(augmented_point_3d, \"50k\")"
   ]
  },
  {
   "cell_type": "code",
   "execution_count": null,
   "metadata": {},
   "outputs": [],
   "source": [
    "points_3d = point_clouds[0]\n",
    "augmented_point_3d = random_sample_point_cloud(points_3d, min_ratio=0.5, prob=1.0)\n",
    "plot_points_3d(augmented_point_3d, \"Random Sample\")"
   ]
  },
  {
   "cell_type": "code",
   "execution_count": null,
   "metadata": {},
   "outputs": [],
   "source": [
    "points_3d = point_clouds[0]\n",
    "point_wolf = PointWOLF()\n",
    "_, augmented_point_3d = point_wolf(points_3d)\n",
    "plot_points_3d(augmented_point_3d, \"PointWOLF\")\n",
    "# plot_points_3d(_, \"PointWOLF\")"
   ]
  },
  {
   "cell_type": "markdown",
   "metadata": {},
   "source": [
    "## Rendering"
   ]
  },
  {
   "cell_type": "code",
   "execution_count": null,
   "metadata": {},
   "outputs": [],
   "source": [
    "def render_point_cloud(points_3d: np.ndarray, image_size: int) -> np.ndarray:\n",
    "    points_2d = points_3d[:, :2] * image_size / 2 + image_size / 2\n",
    "    image = np.zeros((image_size, image_size), dtype=np.uint8)\n",
    "    for x, y in points_2d:\n",
    "        cv2.circle(\n",
    "            image, (int(round(y)), int(round(x))), radius=1, color=255, thickness=-1\n",
    "        )\n",
    "    return image\n",
    "\n",
    "points_3d = point_clouds[0]\n",
    "render_image = render_point_cloud(points_3d, image_size)\n",
    "render_image = cv2.cvtColor(render_image, cv2.COLOR_GRAY2RGB)\n",
    "plt.figure(figsize=(5, 5))\n",
    "plt.title(\"OpenCV\")\n",
    "plt.imshow(render_image)\n",
    "plt.xticks([])\n",
    "plt.yticks([])\n",
    "plt.show()"
   ]
  },
  {
   "cell_type": "code",
   "execution_count": null,
   "metadata": {},
   "outputs": [],
   "source": [
    "%%timeit\n",
    "\n",
    "render_point_cloud(points_3d, image_size)"
   ]
  },
  {
   "cell_type": "code",
   "execution_count": null,
   "metadata": {},
   "outputs": [],
   "source": [
    "R, T = look_at_view_transform(10.0, 0.0, 0.0)\n",
    "rasterizer = PointsRasterizer(\n",
    "    cameras=FoVPerspectiveCameras(device=device, R=R, T=T, fov=10.0),\n",
    "    raster_settings=PointsRasterizationSettings(\n",
    "        radius=0.01, points_per_pixel=4\n",
    "    ),\n",
    ")\n",
    "renderer = PointsRenderer(\n",
    "    rasterizer=rasterizer,\n",
    "    compositor=AlphaCompositor(\n",
    "        background_color=(0., 0., 0.)\n",
    "    ),\n",
    ")\n",
    "colors = generate_colors(points_3d)\n",
    "\n",
    "points_3d = point_clouds[0]\n",
    "_points_3d = torch.from_numpy(points_3d.astype(np.float32))\n",
    "verts = torch.Tensor(_points_3d).to(device)\n",
    "rgba = torch.Tensor(colors).to(device)\n",
    "point_cloud = Pointclouds(points=[verts], features=[rgba])\n",
    "\n",
    "# Render\n",
    "render_image = renderer(point_cloud)[0]\n",
    "\n",
    "# Visualize\n",
    "plt.figure(figsize=(5, 5))\n",
    "plt.imshow(cv2.rotate(render_image.cpu().numpy(), cv2.ROTATE_90_CLOCKWISE))\n",
    "plt.title(\"pytorch3d\")\n",
    "plt.xticks([])\n",
    "plt.yticks([])\n",
    "plt.show()"
   ]
  },
  {
   "cell_type": "code",
   "execution_count": null,
   "metadata": {},
   "outputs": [],
   "source": [
    "%%timeit\n",
    "\n",
    "renderer(point_cloud)"
   ]
  },
  {
   "cell_type": "code",
   "execution_count": null,
   "metadata": {},
   "outputs": [],
   "source": [
    "R, T = look_at_view_transform(10.0, 0.0, 0.0)\n",
    "rasterizer = PointsRasterizer(\n",
    "    cameras=FoVPerspectiveCameras(device=device, R=R, T=T, fov=10.0),\n",
    "    raster_settings=PointsRasterizationSettings(\n",
    "        radius=0.02, points_per_pixel=4\n",
    "    ),\n",
    ")\n",
    "renderer = PointsRenderer(\n",
    "    rasterizer=rasterizer,\n",
    "    compositor=AlphaCompositor(\n",
    "        background_color=(0., 0., 0.)\n",
    "    ),\n",
    ")\n",
    "colors = generate_colors(points_3d)\n",
    "\n",
    "points_3d = point_clouds[0]\n",
    "_points_3d = torch.from_numpy(points_3d.astype(np.float32))\n",
    "verts = torch.Tensor(_points_3d).to(device)\n",
    "rgba = torch.Tensor(colors).to(device)\n",
    "point_cloud = Pointclouds(points=[verts], features=[rgba])\n",
    "\n",
    "# Render\n",
    "render_image = renderer(point_cloud)[0]\n",
    "\n",
    "# Visualize\n",
    "plt.figure(figsize=(5, 5))\n",
    "plt.imshow(cv2.rotate(render_image.cpu().numpy(), cv2.ROTATE_90_CLOCKWISE))\n",
    "plt.title(\"pytorch3d\")\n",
    "plt.xticks([])\n",
    "plt.yticks([])\n",
    "plt.show()"
   ]
  },
  {
   "cell_type": "code",
   "execution_count": null,
   "metadata": {},
   "outputs": [],
   "source": [
    "R, T = look_at_view_transform(10.0, 0.0, 0.0)\n",
    "rasterizer = PointsRasterizer(\n",
    "    cameras=FoVPerspectiveCameras(device=device, R=R, T=T, fov=10.0),\n",
    "    raster_settings=PointsRasterizationSettings(\n",
    "        radius=0.01, points_per_pixel=4\n",
    "    ),\n",
    ")\n",
    "renderer = PointsRenderer(\n",
    "    rasterizer=rasterizer,\n",
    "    compositor=AlphaCompositor(\n",
    "        background_color=(0., 0., 0.)\n",
    "    ),\n",
    ")\n",
    "colors = colorize_point_cloud(points_3d, min_sat=0.8, min_val=0.8, random_mode=False)\n",
    "\n",
    "points_3d = point_clouds[0]\n",
    "_points_3d = torch.from_numpy(points_3d.astype(np.float32))\n",
    "verts = torch.Tensor(_points_3d).to(device)\n",
    "rgba = torch.Tensor(colors).to(device)\n",
    "point_cloud = Pointclouds(points=[verts], features=[rgba])\n",
    "\n",
    "# Render\n",
    "render_image = renderer(point_cloud)[0]\n",
    "\n",
    "# Visualize\n",
    "plt.figure(figsize=(5, 5))\n",
    "plt.imshow(cv2.rotate(render_image.cpu().numpy(), cv2.ROTATE_90_CLOCKWISE))\n",
    "plt.title(\"pytorch3d\")\n",
    "plt.xticks([])\n",
    "plt.yticks([])\n",
    "plt.show()"
   ]
  }
 ],
 "metadata": {
  "kernelspec": {
   "display_name": "fractal",
   "language": "python",
   "name": "python3"
  },
  "language_info": {
   "codemirror_mode": {
    "name": "ipython",
    "version": 3
   },
   "file_extension": ".py",
   "mimetype": "text/x-python",
   "name": "python",
   "nbconvert_exporter": "python",
   "pygments_lexer": "ipython3",
   "version": "3.10.13"
  }
 },
 "nbformat": 4,
 "nbformat_minor": 2
}
